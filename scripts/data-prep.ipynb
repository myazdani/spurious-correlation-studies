{
 "cells": [
  {
   "cell_type": "code",
   "execution_count": 42,
   "metadata": {
    "collapsed": false
   },
   "outputs": [],
   "source": [
    "import pandas as pd\n",
    "import locale\n",
    "locale.setlocale( locale.LC_ALL, 'en_US.UTF-8' ) \n",
    "\n",
    "%matplotlib inline"
   ]
  },
  {
   "cell_type": "code",
   "execution_count": 49,
   "metadata": {
    "collapsed": true
   },
   "outputs": [],
   "source": [
    "def get_int(in_df):\n",
    "    in_list = list(in_df)\n",
    "    return [locale.atoi(item.strip()) for item in in_list]\n",
    "\n",
    "def get_float(in_df):\n",
    "    in_list = list(in_df)\n",
    "    return [locale.atof(item.strip()) for item in in_list]"
   ]
  },
  {
   "cell_type": "markdown",
   "metadata": {},
   "source": [
    "## Chart 1: US spending on science, space, and technology correlates with Suicides by hanging, strangulation and suffocation"
   ]
  },
  {
   "cell_type": "code",
   "execution_count": 6,
   "metadata": {
    "collapsed": false
   },
   "outputs": [
    {
     "data": {
      "text/html": [
       "<div>\n",
       "<table border=\"1\" class=\"dataframe\">\n",
       "  <thead>\n",
       "    <tr style=\"text-align: right;\">\n",
       "      <th></th>\n",
       "      <th>5,427</th>\n",
       "      <th>5,688</th>\n",
       "      <th>6,198</th>\n",
       "      <th>6,462</th>\n",
       "      <th>6,635</th>\n",
       "      <th>7,336</th>\n",
       "      <th>7,248</th>\n",
       "      <th>7,491</th>\n",
       "      <th>8,161</th>\n",
       "      <th>8,578</th>\n",
       "      <th>9,000</th>\n",
       "    </tr>\n",
       "  </thead>\n",
       "  <tbody>\n",
       "  </tbody>\n",
       "</table>\n",
       "</div>"
      ],
      "text/plain": [
       "Empty DataFrame\n",
       "Columns: [5,427, 5,688, 6,198, 6,462, 6,635, 7,336, 7,248, 7,491, 8,161, 8,578, 9,000]\n",
       "Index: []"
      ]
     },
     "execution_count": 6,
     "metadata": {},
     "output_type": "execute_result"
    }
   ],
   "source": [
    "suicides_df = pd.read_clipboard()\n",
    "suicides_df"
   ]
  },
  {
   "cell_type": "code",
   "execution_count": 7,
   "metadata": {
    "collapsed": false
   },
   "outputs": [
    {
     "data": {
      "text/html": [
       "<div>\n",
       "<table border=\"1\" class=\"dataframe\">\n",
       "  <thead>\n",
       "    <tr style=\"text-align: right;\">\n",
       "      <th></th>\n",
       "      <th>18,079</th>\n",
       "      <th>18,594</th>\n",
       "      <th>19,753</th>\n",
       "      <th>20,734</th>\n",
       "      <th>20,831</th>\n",
       "      <th>23,029</th>\n",
       "      <th>23,597</th>\n",
       "      <th>23,584</th>\n",
       "      <th>25,525</th>\n",
       "      <th>27,731</th>\n",
       "      <th>29,449</th>\n",
       "    </tr>\n",
       "  </thead>\n",
       "  <tbody>\n",
       "  </tbody>\n",
       "</table>\n",
       "</div>"
      ],
      "text/plain": [
       "Empty DataFrame\n",
       "Columns: [18,079, 18,594, 19,753, 20,734, 20,831, 23,029, 23,597, 23,584, 25,525, 27,731, 29,449]\n",
       "Index: []"
      ]
     },
     "execution_count": 7,
     "metadata": {},
     "output_type": "execute_result"
    }
   ],
   "source": [
    "science_spending_df = pd.read_clipboard()\n",
    "science_spending_df"
   ]
  },
  {
   "cell_type": "code",
   "execution_count": 50,
   "metadata": {
    "collapsed": false
   },
   "outputs": [
    {
     "data": {
      "image/png": "[encoded data removed]",
      "text/plain": [
       "<matplotlib.figure.Figure at 0x10e9c9790>"
      ]
     },
     "metadata": {},
     "output_type": "display_data"
    }
   ],
   "source": [
    "chart1_df = pd.DataFrame({'suicides': get_int(suicides_df), 'science.spending': get_int(science_spending_df)})\n",
    "chart1_df.plot(style=['o', 'rx'])\n",
    "chart1_df.to_csv(\"../data/chart1.csv\", index = False)"
   ]
  },
  {
   "cell_type": "markdown",
   "metadata": {},
   "source": [
    "## Chart 2: Number people who drowned by falling into a swimming-pool correlates with Number of films Nicolas Cage appeared in"
   ]
  },
  {
   "cell_type": "code",
   "execution_count": 46,
   "metadata": {
    "collapsed": false
   },
   "outputs": [
    {
     "data": {
      "text/html": [
       "<div>\n",
       "<table border=\"1\" class=\"dataframe\">\n",
       "  <thead>\n",
       "    <tr style=\"text-align: right;\">\n",
       "      <th></th>\n",
       "      <th>109</th>\n",
       "      <th>102</th>\n",
       "      <th>102.1</th>\n",
       "      <th>98</th>\n",
       "      <th>85</th>\n",
       "      <th>95</th>\n",
       "      <th>96</th>\n",
       "      <th>98.1</th>\n",
       "      <th>123</th>\n",
       "      <th>94</th>\n",
       "      <th>102.2</th>\n",
       "    </tr>\n",
       "  </thead>\n",
       "  <tbody>\n",
       "  </tbody>\n",
       "</table>\n",
       "</div>"
      ],
      "text/plain": [
       "Empty DataFrame\n",
       "Columns: [109, 102, 102.1, 98, 85, 95, 96, 98.1, 123, 94, 102.2]\n",
       "Index: []"
      ]
     },
     "execution_count": 46,
     "metadata": {},
     "output_type": "execute_result"
    }
   ],
   "source": [
    "drowned_df = pd.read_clipboard()\n",
    "drowned_df"
   ]
  },
  {
   "cell_type": "code",
   "execution_count": 48,
   "metadata": {
    "collapsed": false
   },
   "outputs": [
    {
     "data": {
      "text/html": [
       "<div>\n",
       "<table border=\"1\" class=\"dataframe\">\n",
       "  <thead>\n",
       "    <tr style=\"text-align: right;\">\n",
       "      <th></th>\n",
       "      <th>2</th>\n",
       "      <th>2.1</th>\n",
       "      <th>2.2</th>\n",
       "      <th>3</th>\n",
       "      <th>1</th>\n",
       "      <th>1.1</th>\n",
       "      <th>2.3</th>\n",
       "      <th>3.1</th>\n",
       "      <th>4</th>\n",
       "      <th>1.2</th>\n",
       "      <th>4.1</th>\n",
       "    </tr>\n",
       "  </thead>\n",
       "  <tbody>\n",
       "  </tbody>\n",
       "</table>\n",
       "</div>"
      ],
      "text/plain": [
       "Empty DataFrame\n",
       "Columns: [2, 2.1, 2.2, 3, 1, 1.1, 2.3, 3.1, 4, 1.2, 4.1]\n",
       "Index: []"
      ]
     },
     "execution_count": 48,
     "metadata": {},
     "output_type": "execute_result"
    }
   ],
   "source": [
    "cageFilmes_df = pd.read_clipboard()\n",
    "cageFilmes_df"
   ]
  },
  {
   "cell_type": "code",
   "execution_count": 52,
   "metadata": {
    "collapsed": false
   },
   "outputs": [
    {
     "data": {
      "image/png": "[encoded data removed]",
      "text/plain": [
       "<matplotlib.figure.Figure at 0x10eb0e590>"
      ]
     },
     "metadata": {},
     "output_type": "display_data"
    }
   ],
   "source": [
    "chart2_df = pd.DataFrame({'num.drowned': get_float(drowned_df), 'num.cage.films': get_float(cageFilmes_df)})\n",
    "chart2_df.plot(style=['o', 'rx'])\n",
    "chart2_df.to_csv(\"../data/chart2.csv\", index = False)"
   ]
  },
  {
   "cell_type": "markdown",
   "metadata": {},
   "source": [
    "## Chart 3: Per capita consumption of cheese (US) correlates with Number of people who died by becoming tangled in their bedsheets\n"
   ]
  },
  {
   "cell_type": "code",
   "execution_count": 53,
   "metadata": {
    "collapsed": false
   },
   "outputs": [
    {
     "data": {
      "text/html": [
       "<div>\n",
       "<table border=\"1\" class=\"dataframe\">\n",
       "  <thead>\n",
       "    <tr style=\"text-align: right;\">\n",
       "      <th></th>\n",
       "      <th>29.8</th>\n",
       "      <th>30.1</th>\n",
       "      <th>30.5</th>\n",
       "      <th>30.6</th>\n",
       "      <th>31.3</th>\n",
       "      <th>31.7</th>\n",
       "      <th>32.6</th>\n",
       "      <th>33.1</th>\n",
       "      <th>32.7</th>\n",
       "      <th>32.8</th>\n",
       "    </tr>\n",
       "  </thead>\n",
       "  <tbody>\n",
       "  </tbody>\n",
       "</table>\n",
       "</div>"
      ],
      "text/plain": [
       "Empty DataFrame\n",
       "Columns: [29.8, 30.1, 30.5, 30.6, 31.3, 31.7, 32.6, 33.1, 32.7, 32.8]\n",
       "Index: []"
      ]
     },
     "execution_count": 53,
     "metadata": {},
     "output_type": "execute_result"
    }
   ],
   "source": [
    "cheese_df = pd.read_clipboard()\n",
    "cheese_df"
   ]
  },
  {
   "cell_type": "code",
   "execution_count": 55,
   "metadata": {
    "collapsed": false
   },
   "outputs": [
    {
     "data": {
      "text/html": [
       "<div>\n",
       "<table border=\"1\" class=\"dataframe\">\n",
       "  <thead>\n",
       "    <tr style=\"text-align: right;\">\n",
       "      <th></th>\n",
       "      <th>327</th>\n",
       "      <th>456</th>\n",
       "      <th>509</th>\n",
       "      <th>497</th>\n",
       "      <th>596</th>\n",
       "      <th>573</th>\n",
       "      <th>661</th>\n",
       "      <th>741</th>\n",
       "      <th>809</th>\n",
       "      <th>717</th>\n",
       "    </tr>\n",
       "  </thead>\n",
       "  <tbody>\n",
       "  </tbody>\n",
       "</table>\n",
       "</div>"
      ],
      "text/plain": [
       "Empty DataFrame\n",
       "Columns: [327, 456, 509, 497, 596, 573, 661, 741, 809, 717]\n",
       "Index: []"
      ]
     },
     "execution_count": 55,
     "metadata": {},
     "output_type": "execute_result"
    }
   ],
   "source": [
    "bedsheetDeath_df = pd.read_clipboard()\n",
    "bedsheetDeath_df"
   ]
  },
  {
   "cell_type": "code",
   "execution_count": 56,
   "metadata": {
    "collapsed": false
   },
   "outputs": [
    {
     "data": {
      "image/png": "[encoded data removed]",
      "text/plain": [
       "<matplotlib.figure.Figure at 0x10ea67ed0>"
      ]
     },
     "metadata": {},
     "output_type": "display_data"
    }
   ],
   "source": [
    "chart3_df = pd.DataFrame({'cheese.consumption': get_float(cheese_df), 'bedsheet.deaths': get_float(bedsheetDeath_df)})\n",
    "chart3_df.plot(style=['o', 'rx'])\n",
    "chart3_df.to_csv(\"../data/chart3.csv\", index = False)"
   ]
  },
  {
   "cell_type": "markdown",
   "metadata": {},
   "source": [
    "## Chart 4: Divorce rate in Maine correlates with Per capita consumption of margarine (US)"
   ]
  },
  {
   "cell_type": "code",
   "execution_count": 73,
   "metadata": {
    "collapsed": false
   },
   "outputs": [
    {
     "data": {
      "text/html": [
       "<div>\n",
       "<table border=\"1\" class=\"dataframe\">\n",
       "  <thead>\n",
       "    <tr style=\"text-align: right;\">\n",
       "      <th></th>\n",
       "      <th>5</th>\n",
       "      <th>4.7</th>\n",
       "      <th>4.6</th>\n",
       "      <th>4.4</th>\n",
       "      <th>4.3</th>\n",
       "      <th>4.1</th>\n",
       "      <th>4.2</th>\n",
       "      <th>4.2.1</th>\n",
       "      <th>4.2.2</th>\n",
       "      <th>4.1.1</th>\n",
       "    </tr>\n",
       "  </thead>\n",
       "  <tbody>\n",
       "  </tbody>\n",
       "</table>\n",
       "</div>"
      ],
      "text/plain": [
       "Empty DataFrame\n",
       "Columns: [5, 4.7, 4.6, 4.4, 4.3, 4.1, 4.2, 4.2.1, 4.2.2, 4.1.1]\n",
       "Index: []"
      ]
     },
     "execution_count": 73,
     "metadata": {},
     "output_type": "execute_result"
    }
   ],
   "source": [
    "mainDivorce_df = pd.read_clipboard()\n",
    "mainDivorce_df"
   ]
  },
  {
   "cell_type": "code",
   "execution_count": 76,
   "metadata": {
    "collapsed": false
   },
   "outputs": [],
   "source": [
    "mainDivorce_df.columns.values[-1] = '4.1'\n",
    "mainDivorce_df.columns.values[-2] = '4.2'\n",
    "mainDivorce_df.columns.values[-3] = '4.2'"
   ]
  },
  {
   "cell_type": "code",
   "execution_count": 77,
   "metadata": {
    "collapsed": false
   },
   "outputs": [
    {
     "data": {
      "text/html": [
       "<div>\n",
       "<table border=\"1\" class=\"dataframe\">\n",
       "  <thead>\n",
       "    <tr style=\"text-align: right;\">\n",
       "      <th></th>\n",
       "      <th>5</th>\n",
       "      <th>4.7</th>\n",
       "      <th>4.6</th>\n",
       "      <th>4.4</th>\n",
       "      <th>4.3</th>\n",
       "      <th>4.1</th>\n",
       "      <th>4.2</th>\n",
       "      <th>4.2</th>\n",
       "      <th>4.2</th>\n",
       "      <th>4.1</th>\n",
       "    </tr>\n",
       "  </thead>\n",
       "  <tbody>\n",
       "  </tbody>\n",
       "</table>\n",
       "</div>"
      ],
      "text/plain": [
       "Empty DataFrame\n",
       "Columns: [5, 4.7, 4.6, 4.4, 4.3, 4.1, 4.2, 4.2, 4.2, 4.1]\n",
       "Index: []"
      ]
     },
     "execution_count": 77,
     "metadata": {},
     "output_type": "execute_result"
    }
   ],
   "source": [
    "mainDivorce_df"
   ]
  },
  {
   "cell_type": "code",
   "execution_count": 60,
   "metadata": {
    "collapsed": false
   },
   "outputs": [
    {
     "data": {
      "text/html": [
       "<div>\n",
       "<table border=\"1\" class=\"dataframe\">\n",
       "  <thead>\n",
       "    <tr style=\"text-align: right;\">\n",
       "      <th></th>\n",
       "      <th>8.2</th>\n",
       "      <th>7</th>\n",
       "      <th>6.5</th>\n",
       "      <th>5.3</th>\n",
       "      <th>5.2</th>\n",
       "      <th>4</th>\n",
       "      <th>4.6</th>\n",
       "      <th>4.5</th>\n",
       "      <th>4.2</th>\n",
       "      <th>3.7</th>\n",
       "    </tr>\n",
       "  </thead>\n",
       "  <tbody>\n",
       "  </tbody>\n",
       "</table>\n",
       "</div>"
      ],
      "text/plain": [
       "Empty DataFrame\n",
       "Columns: [8.2, 7, 6.5, 5.3, 5.2, 4, 4.6, 4.5, 4.2, 3.7]\n",
       "Index: []"
      ]
     },
     "execution_count": 60,
     "metadata": {},
     "output_type": "execute_result"
    }
   ],
   "source": [
    "margarine_df = pd.read_clipboard()\n",
    "margarine_df"
   ]
  },
  {
   "cell_type": "code",
   "execution_count": 78,
   "metadata": {
    "collapsed": false
   },
   "outputs": [
    {
     "data": {
      "image/png": "[encoded data removed]",
      "text/plain": [
       "<matplotlib.figure.Figure at 0x10ebbe650>"
      ]
     },
     "metadata": {},
     "output_type": "display_data"
    }
   ],
   "source": [
    "chart4_df = pd.DataFrame({'main.divorce.rate': get_float(mainDivorce_df), 'margarine.consumption': get_float(margarine_df)})\n",
    "chart4_df.plot(style=['o', 'rx'])\n",
    "chart4_df.to_csv(\"../data/chart4.csv\", index = False)"
   ]
  },
  {
   "cell_type": "code",
   "execution_count": null,
   "metadata": {
    "collapsed": true
   },
   "outputs": [],
   "source": []
  }
 ],
 "metadata": {
  "kernelspec": {
   "display_name": "Python 2",
   "language": "python",
   "name": "python2"
  },
  "language_info": {
   "codemirror_mode": {
    "name": "ipython",
    "version": 2
   },
   "file_extension": ".py",
   "mimetype": "text/x-python",
   "name": "python",
   "nbconvert_exporter": "python",
   "pygments_lexer": "ipython2",
   "version": "2.7.10"
  }
 },
 "nbformat": 4,
 "nbformat_minor": 0
}
